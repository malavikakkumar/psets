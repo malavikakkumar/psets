{
 "cells": [
  {
   "cell_type": "code",
   "execution_count": 4,
   "id": "848af633-3e58-47d2-8952-621bed126176",
   "metadata": {},
   "outputs": [
    {
     "name": "stdout",
     "output_type": "stream",
     "text": [
      "Hello World!\n",
      "My name is\n"
     ]
    }
   ],
   "source": [
    "print (\"Hello World!\")\n",
    "print (\"My name is\")"
   ]
  },
  {
   "cell_type": "code",
   "execution_count": 8,
   "id": "85873ee4-53eb-4d33-a50c-d6ee85e5780b",
   "metadata": {},
   "outputs": [
    {
     "data": {
      "text/plain": [
       "2"
      ]
     },
     "execution_count": 8,
     "metadata": {},
     "output_type": "execute_result"
    }
   ],
   "source": [
    "1 + 1"
   ]
  },
  {
   "cell_type": "markdown",
   "id": "8e177fc8-62eb-4d62-8590-bd8118bd3040",
   "metadata": {},
   "source": [
    "# Markdown Mode\n",
    "\n",
    "A shortcut to enter markdown mode in Jupyter Notebook is `ESC` (to enter command mode) + `m`.\n",
    "\n",
    "**This is markdown text.**"
   ]
  },
  {
   "cell_type": "markdown",
   "id": "d62f7449-3709-4af8-927d-7bf9e01e00eb",
   "metadata": {},
   "source": [
    "1 + 1"
   ]
  },
  {
   "cell_type": "markdown",
   "id": "bef2608f-8dea-4987-af46-743be869e8eb",
   "metadata": {},
   "source": [
    "The above does not execute as it is in markdown, and not code mode."
   ]
  },
  {
   "cell_type": "code",
   "execution_count": 9,
   "id": "9614b57e-cd30-444c-b904-38b8476f0216",
   "metadata": {},
   "outputs": [
    {
     "name": "stdout",
     "output_type": "stream",
     "text": [
      "2\n"
     ]
    }
   ],
   "source": [
    "print (1 + 1)"
   ]
  },
  {
   "cell_type": "markdown",
   "id": "0134b86f-28bd-4592-918c-065b0767f760",
   "metadata": {},
   "source": [
    "The above command executes the mathematical function in brackets and prints the output."
   ]
  },
  {
   "cell_type": "code",
   "execution_count": 10,
   "id": "d91e1bca-49eb-4632-a1e0-ee18fa4795a1",
   "metadata": {},
   "outputs": [
    {
     "name": "stdout",
     "output_type": "stream",
     "text": [
      "1 + 1\n"
     ]
    }
   ],
   "source": [
    "print ('1 + 1')"
   ]
  },
  {
   "cell_type": "markdown",
   "id": "df81d3df-ae6e-4b68-833d-fff7d43ed17f",
   "metadata": {},
   "source": [
    "### Data types\n",
    "\n",
    "Here, the quotes indicate that the data type in the brackets is a **string** type.\n",
    "There are different types of data in python:\n",
    "- `str` (string) - text type\n",
    "- `int` (integer), `float` (floating point) - numeric types\n",
    "and so on..."
   ]
  },
  {
   "attachments": {},
   "cell_type": "markdown",
   "id": "3f7cbd1e-6714-4349-88f5-593835a767ea",
   "metadata": {},
   "source": [
    "### Operators\n",
    "\n",
    "There are also different kinds of **operators** to perform operations on variables and values:\n",
    "\n",
    "- +, -, x, /\n",
    "- % (modulus)\n",
    "- ** (exponent)\n",
    "- // (floor division)\n",
    "\n",
    "### Functions\n",
    "\n",
    "`print()`, as seen above, is an example of a function of the format *function_name (argument)*."
   ]
  },
  {
   "cell_type": "markdown",
   "id": "14e76ddc-cc79-4e16-b0db-bc81a5494e73",
   "metadata": {},
   "source": [
    "To learn more about a function (in this case `print()`):"
   ]
  },
  {
   "cell_type": "code",
   "execution_count": 11,
   "id": "f1b246ce-68f5-426f-a379-9f9fbcb1741d",
   "metadata": {},
   "outputs": [
    {
     "name": "stdout",
     "output_type": "stream",
     "text": [
      "Help on built-in function print in module builtins:\n",
      "\n",
      "print(*args, sep=' ', end='\\n', file=None, flush=False)\n",
      "    Prints the values to a stream, or to sys.stdout by default.\n",
      "\n",
      "    sep\n",
      "      string inserted between values, default a space.\n",
      "    end\n",
      "      string appended after the last value, default a newline.\n",
      "    file\n",
      "      a file-like object (stream); defaults to the current sys.stdout.\n",
      "    flush\n",
      "      whether to forcibly flush the stream.\n",
      "\n"
     ]
    }
   ],
   "source": [
    "help(print)"
   ]
  },
  {
   "cell_type": "markdown",
   "id": "354fc7af-44b4-4661-8214-2c7c7291794b",
   "metadata": {},
   "source": [
    "### Variables\n",
    "\n",
    "**Placeholders** in the computer memory for storing data values (so we can look at them/use them as many times as needed)\n",
    "\n",
    "Declaring variables:"
   ]
  },
  {
   "cell_type": "code",
   "execution_count": 20,
   "id": "a3315f0a-ca38-49ad-98eb-180944d1b3e5",
   "metadata": {},
   "outputs": [],
   "source": [
    "x = 1 + 1\n",
    "name = \"Malavika\""
   ]
  },
  {
   "cell_type": "markdown",
   "id": "df6422e4-d2b4-4375-8bf1-9b41d0b00d7d",
   "metadata": {},
   "source": [
    "There is no output as the values are merely being stored away for later."
   ]
  },
  {
   "cell_type": "code",
   "execution_count": 21,
   "id": "d721303e-2944-4064-9e0e-8d9fe5a3a5fa",
   "metadata": {},
   "outputs": [
    {
     "name": "stdout",
     "output_type": "stream",
     "text": [
      "My name is Malavika\n"
     ]
    }
   ],
   "source": [
    "print (\"My name is \" + name)"
   ]
  },
  {
   "cell_type": "markdown",
   "id": "f173e0f3-7402-4b29-be3f-6f7100ed5501",
   "metadata": {},
   "source": [
    "*Note*: Variables (ordinarily) cannot be empty!!!"
   ]
  },
  {
   "cell_type": "code",
   "execution_count": 22,
   "id": "9e1071a6-fb64-4cd2-be14-95ac1de522e8",
   "metadata": {},
   "outputs": [],
   "source": [
    "# multiple assignment of variables\n",
    "\n",
    "firstName, lastName = name, \"Krishna Kumar\"\n",
    "x = y = z = 10"
   ]
  },
  {
   "cell_type": "code",
   "execution_count": 23,
   "id": "bae019f0-de90-424c-9fb2-4b2f2896ddd7",
   "metadata": {},
   "outputs": [
    {
     "name": "stdout",
     "output_type": "stream",
     "text": [
      "Malavika Krishna Kumar\n",
      "10 10 10 30\n"
     ]
    }
   ],
   "source": [
    "# manipulating our newly declared variables\n",
    "\n",
    "print (firstName)\n",
    "print (x, y, z, x + y + z)"
   ]
  },
  {
   "cell_type": "markdown",
   "id": "f7b4f0af-3344-4827-a6b9-fbd6336fb2c7",
   "metadata": {},
   "source": [
    "If we try to operate on two variables of different types, what happens?"
   ]
  },
  {
   "cell_type": "code",
   "execution_count": 24,
   "id": "d1292e73-82a5-459f-8c22-9b1642952314",
   "metadata": {},
   "outputs": [
    {
     "ename": "TypeError",
     "evalue": "can only concatenate str (not \"int\") to str",
     "output_type": "error",
     "traceback": [
      "\u001b[1;31m---------------------------------------------------------------------------\u001b[0m",
      "\u001b[1;31mTypeError\u001b[0m                                 Traceback (most recent call last)",
      "Cell \u001b[1;32mIn[24], line 1\u001b[0m\n\u001b[1;32m----> 1\u001b[0m name \u001b[38;5;241m+\u001b[39m x\n",
      "\u001b[1;31mTypeError\u001b[0m: can only concatenate str (not \"int\") to str"
     ]
    }
   ],
   "source": [
    "name + x"
   ]
  },
  {
   "cell_type": "markdown",
   "id": "37f3e115-432a-4f91-9306-103551511f3f",
   "metadata": {},
   "source": [
    "We get this **TypeError** as only variables of the same type can undergo the same operation.\n",
    "\n",
    "Errors are important in python to help us figure out what went wrong in our code.\n",
    "\n",
    "They give us information about the exact line number where the error happened, and the position and type of error. "
   ]
  },
  {
   "cell_type": "code",
   "execution_count": 26,
   "id": "643c6951-a04a-4bfa-a5cb-34c4975576ed",
   "metadata": {},
   "outputs": [
    {
     "name": "stdout",
     "output_type": "stream",
     "text": [
      "Malavika Krishna Kumar\n"
     ]
    }
   ],
   "source": [
    "name = firstName + \" \" + lastName\n",
    "print (name)"
   ]
  },
  {
   "cell_type": "markdown",
   "id": "f72e215e-6ddc-43cd-84bb-fc754052db36",
   "metadata": {},
   "source": [
    "Here, we successfully add (concatenate) two strings together."
   ]
  },
  {
   "cell_type": "markdown",
   "id": "1326ebce-250f-4015-a1eb-d773e76c20d8",
   "metadata": {},
   "source": [
    "Here are some examples of errors, run them to find the type of error:"
   ]
  },
  {
   "cell_type": "code",
   "execution_count": 29,
   "id": "e097ca8a-415d-4ed1-9a24-43842d7ef633",
   "metadata": {},
   "outputs": [
    {
     "ename": "SyntaxError",
     "evalue": "invalid syntax (2708624408.py, line 1)",
     "output_type": "error",
     "traceback": [
      "\u001b[1;36m  Cell \u001b[1;32mIn[29], line 1\u001b[1;36m\u001b[0m\n\u001b[1;33m    a = 1 + 1:\u001b[0m\n\u001b[1;37m             ^\u001b[0m\n\u001b[1;31mSyntaxError\u001b[0m\u001b[1;31m:\u001b[0m invalid syntax\n"
     ]
    }
   ],
   "source": [
    "a = 1 + 1:"
   ]
  },
  {
   "cell_type": "markdown",
   "id": "951e2e80-4c75-4a02-bab0-a998dc8398cd",
   "metadata": {},
   "source": [
    "A colon at the end of a line is not part of correct Python syntax, hence throwing up a **SyntaxError**."
   ]
  },
  {
   "cell_type": "code",
   "execution_count": 28,
   "id": "c180e312-1449-4621-98ad-bbc05a2d7f5c",
   "metadata": {},
   "outputs": [
    {
     "ename": "NameError",
     "evalue": "name 'myVar' is not defined",
     "output_type": "error",
     "traceback": [
      "\u001b[1;31m---------------------------------------------------------------------------\u001b[0m",
      "\u001b[1;31mNameError\u001b[0m                                 Traceback (most recent call last)",
      "Cell \u001b[1;32mIn[28], line 2\u001b[0m\n\u001b[0;32m      1\u001b[0m \u001b[38;5;66;03m# the variable myVar has not been defined heretofore.\u001b[39;00m\n\u001b[1;32m----> 2\u001b[0m \u001b[38;5;28mprint\u001b[39m(myVar)\n",
      "\u001b[1;31mNameError\u001b[0m: name 'myVar' is not defined"
     ]
    }
   ],
   "source": [
    "print(myVar)"
   ]
  },
  {
   "cell_type": "markdown",
   "id": "8cf93e11-1701-4936-8af5-88cd806e517a",
   "metadata": {},
   "source": [
    "The variable myVar has not been defined heretofore, hence throwing up a **NameError**."
   ]
  },
  {
   "cell_type": "markdown",
   "id": "ba160de8-06a8-4549-803c-b2e24022f28c",
   "metadata": {},
   "source": [
    "Other ways in which data types differ:"
   ]
  },
  {
   "cell_type": "code",
   "execution_count": 32,
   "id": "88ceb714-dd56-436d-921f-1657dbcca63a",
   "metadata": {},
   "outputs": [
    {
     "ename": "TypeError",
     "evalue": "object of type 'int' has no len()",
     "output_type": "error",
     "traceback": [
      "\u001b[1;31m---------------------------------------------------------------------------\u001b[0m",
      "\u001b[1;31mTypeError\u001b[0m                                 Traceback (most recent call last)",
      "Cell \u001b[1;32mIn[32], line 2\u001b[0m\n\u001b[0;32m      1\u001b[0m myInt \u001b[38;5;241m=\u001b[39m \u001b[38;5;241m551\u001b[39m \u001b[38;5;66;03m# declaring a variable containing a numeric value\u001b[39;00m\n\u001b[1;32m----> 2\u001b[0m \u001b[38;5;28mlen\u001b[39m(myInt)\n",
      "\u001b[1;31mTypeError\u001b[0m: object of type 'int' has no len()"
     ]
    }
   ],
   "source": [
    "myInt = 551 # declaring a variable containing a numeric value 551\n",
    "len(myInt)"
   ]
  },
  {
   "cell_type": "code",
   "execution_count": 36,
   "id": "2a0302a3-921e-4d73-b87d-7ab9604a5d1c",
   "metadata": {},
   "outputs": [
    {
     "data": {
      "text/plain": [
       "3"
      ]
     },
     "execution_count": 36,
     "metadata": {},
     "output_type": "execute_result"
    }
   ],
   "source": [
    "myString = '551' # declaring a variable containing a string value containing the numbers 551\n",
    "len(myString)"
   ]
  },
  {
   "cell_type": "markdown",
   "id": "958cf098-7f70-45e1-879a-60740aa19f37",
   "metadata": {},
   "source": [
    "### String Indexing"
   ]
  },
  {
   "cell_type": "code",
   "execution_count": 34,
   "id": "514fc974-17f5-4d1f-8820-b871f5e48079",
   "metadata": {},
   "outputs": [
    {
     "data": {
      "text/plain": [
       "12"
      ]
     },
     "execution_count": 34,
     "metadata": {},
     "output_type": "execute_result"
    }
   ],
   "source": [
    "newString = 'Hello Anu :)'\n",
    "len(newString)"
   ]
  },
  {
   "cell_type": "code",
   "execution_count": 37,
   "id": "7d2b85b2-fcb5-4c10-b5be-a9c80558eba0",
   "metadata": {},
   "outputs": [
    {
     "data": {
      "text/plain": [
       "')'"
      ]
     },
     "execution_count": 37,
     "metadata": {},
     "output_type": "execute_result"
    }
   ],
   "source": [
    "newString[0] # prints the very first character of string\n",
    "newString[11] # prints the very last character of string"
   ]
  },
  {
   "attachments": {},
   "cell_type": "markdown",
   "id": "f05b4f97-847e-49e4-876b-e58f16cf17a3",
   "metadata": {},
   "source": [
    "You can index or select a specific element of that variable using the [] characters (*string slicing* for strings).\n",
    "\n",
    "In order to do this for a *slice* of the string:"
   ]
  },
  {
   "cell_type": "code",
   "execution_count": 52,
   "id": "57fa5c46-1e4b-4871-8d38-a21e42a832a3",
   "metadata": {},
   "outputs": [
    {
     "data": {
      "text/plain": [
       "'Anu'"
      ]
     },
     "execution_count": 52,
     "metadata": {},
     "output_type": "execute_result"
    }
   ],
   "source": [
    "newString[6:9] # excluding last index in output!"
   ]
  },
  {
   "cell_type": "markdown",
   "id": "1fcf4ca6-a216-4038-a0dc-361545e888b0",
   "metadata": {},
   "source": [
    "We can also do this in steps:"
   ]
  },
  {
   "cell_type": "code",
   "execution_count": 42,
   "id": "a62eeb61-d70e-4b9c-8b2f-61993c35fd42",
   "metadata": {},
   "outputs": [
    {
     "data": {
      "text/plain": [
       "'HloAu:'"
      ]
     },
     "execution_count": 42,
     "metadata": {},
     "output_type": "execute_result"
    }
   ],
   "source": [
    "newString[0::2]"
   ]
  },
  {
   "cell_type": "markdown",
   "id": "1d5c4fa1-5001-4cb0-97d4-36b3e168d4bb",
   "metadata": {},
   "source": [
    "## Exercise 1"
   ]
  },
  {
   "cell_type": "code",
   "execution_count": 46,
   "id": "91bb4867-1b6d-47a6-9ee1-f680bb58df14",
   "metadata": {},
   "outputs": [],
   "source": [
    "myString = 'hello world'"
   ]
  },
  {
   "cell_type": "code",
   "execution_count": 48,
   "id": "12fb6c0f-1a79-4451-97c3-91ce1a340c94",
   "metadata": {},
   "outputs": [
    {
     "data": {
      "text/plain": [
       "'hello'"
      ]
     },
     "execution_count": 48,
     "metadata": {},
     "output_type": "execute_result"
    }
   ],
   "source": [
    "myString[:5]"
   ]
  },
  {
   "cell_type": "code",
   "execution_count": 50,
   "id": "64e61497-8139-4dba-a631-50a3f62b8a6e",
   "metadata": {},
   "outputs": [
    {
     "data": {
      "text/plain": [
       "'world'"
      ]
     },
     "execution_count": 50,
     "metadata": {},
     "output_type": "execute_result"
    }
   ],
   "source": [
    "myString[6:]"
   ]
  },
  {
   "cell_type": "code",
   "execution_count": 72,
   "id": "9e5e8337-8672-44c7-ac07-d217e157fbb2",
   "metadata": {},
   "outputs": [
    {
     "name": "stdout",
     "output_type": "stream",
     "text": [
      "dlrow olle\n",
      "dlrow olleh\n"
     ]
    }
   ],
   "source": [
    "print(myString[-1:0:-1])\n",
    "print(myString[-1:-12:-1])"
   ]
  },
  {
   "cell_type": "markdown",
   "id": "883826c3-512e-4e2d-bbe5-bff454ca62e6",
   "metadata": {},
   "source": [
    "*Note*: Ranges are non-inclusive, which means that `[0:5:1]` would be read as... \"take the first five elements\", i.e., 0, 1, 2, 3, 4\n",
    "\n",
    "So *0* is the first step, *5* is the number of steps to take, and *1* is how much distance between each step."
   ]
  },
  {
   "cell_type": "markdown",
   "id": "d0d9f5bc-8cfe-4e97-be09-3dddc137a7fc",
   "metadata": {},
   "source": [
    "### Lists\n",
    "\n",
    "A type of collection of same or different kinds of data, created using square brackets:\n",
    "\n",
    "`drinks = [\"whiskey\", \"vodka\", \"lager\", \"cider\"]`\n",
    "\n",
    "Lists are:\n",
    "- **ordered**: a defined order that will not change, new items are always added to the end of the list\n",
    "- **changeable**: can change and remove given that you select an index to modify\n",
    "\n",
    "(Unlike **tuples** which are ordered and unchangeable, defined using round brackets `()`,\n",
    "\n",
    "and **sets** which are unordered, unchangeable, and *unindexed*, defined using curly brackets `{}`)"
   ]
  },
  {
   "cell_type": "code",
   "execution_count": 101,
   "id": "7f09b8bd-bd22-46d3-b1ff-1d17765c1631",
   "metadata": {},
   "outputs": [],
   "source": [
    "drinks = [\"whiskey\", \"vodka\", \"lager\", \"cider\"]"
   ]
  },
  {
   "cell_type": "markdown",
   "id": "fa75f4b6-43b0-40ad-ad5a-9406a49940be",
   "metadata": {},
   "source": [
    "## Exercise 2"
   ]
  },
  {
   "cell_type": "code",
   "execution_count": 94,
   "id": "71c045ee-26b9-448f-85d6-dad157ba6fae",
   "metadata": {},
   "outputs": [
    {
     "data": {
      "text/plain": [
       "['whiskey', 'vodka', 'lager', 'tequila']"
      ]
     },
     "execution_count": 94,
     "metadata": {},
     "output_type": "execute_result"
    }
   ],
   "source": [
    "# modifying the drinks list\n",
    "\n",
    "drinks[3] = \"tequila\"\n",
    "drinks"
   ]
  },
  {
   "cell_type": "code",
   "execution_count": 77,
   "id": "43884e3b-0c89-4d47-8926-7f3d554fc7cb",
   "metadata": {},
   "outputs": [
    {
     "data": {
      "text/plain": [
       "['whiskey', 52, 'lager', 'tequila']"
      ]
     },
     "execution_count": 77,
     "metadata": {},
     "output_type": "execute_result"
    }
   ],
   "source": [
    "drinks[1] = 52\n",
    "drinks"
   ]
  },
  {
   "cell_type": "code",
   "execution_count": 79,
   "id": "0f0e1582-f1d2-4500-9440-e0fdafb5ab60",
   "metadata": {},
   "outputs": [
    {
     "data": {
      "text/plain": [
       "list"
      ]
     },
     "execution_count": 79,
     "metadata": {},
     "output_type": "execute_result"
    }
   ],
   "source": [
    "type(drinks)"
   ]
  },
  {
   "cell_type": "code",
   "execution_count": 81,
   "id": "2bbb6e6d-8d4a-4a38-9e8c-68f0437c7106",
   "metadata": {},
   "outputs": [
    {
     "data": {
      "text/plain": [
       "str"
      ]
     },
     "execution_count": 81,
     "metadata": {},
     "output_type": "execute_result"
    }
   ],
   "source": [
    "type(drinks[0])"
   ]
  },
  {
   "cell_type": "code",
   "execution_count": 87,
   "id": "737c34d9-4319-4557-abbb-3d5f9eb47811",
   "metadata": {},
   "outputs": [
    {
     "data": {
      "text/plain": [
       "['lager', 'tequila']"
      ]
     },
     "execution_count": 87,
     "metadata": {},
     "output_type": "execute_result"
    }
   ],
   "source": [
    "drinks[2:4]"
   ]
  },
  {
   "cell_type": "code",
   "execution_count": 103,
   "id": "12e47775-db80-4ef4-8b2b-c709ca3d5b1b",
   "metadata": {},
   "outputs": [
    {
     "data": {
      "text/plain": [
       "['whiskey', 'vodka', 'lager', 'cider', 'wine']"
      ]
     },
     "execution_count": 103,
     "metadata": {},
     "output_type": "execute_result"
    }
   ],
   "source": [
    "# to modify the second entry in the list\n",
    "drinks[1] = \"vodka\"\n",
    "\n",
    "# to add a new entry to the list\n",
    "drinks.append(\"wine\")\n",
    "drinks"
   ]
  },
  {
   "cell_type": "code",
   "execution_count": 104,
   "id": "d854a48f-5655-462b-917b-7f44abe66e20",
   "metadata": {},
   "outputs": [
    {
     "data": {
      "text/plain": [
       "['whiskey', 'vodka', 'lager', 'cider', 'wine', 'cider', 'water', 'beer']"
      ]
     },
     "execution_count": 104,
     "metadata": {},
     "output_type": "execute_result"
    }
   ],
   "source": [
    "# to add multiple entries at the end of the list\n",
    "drinks.extend([\"cider\", \"water\", \"beer\"])\n",
    "drinks"
   ]
  },
  {
   "cell_type": "code",
   "execution_count": 105,
   "id": "469c8a02-cc43-40ab-abf8-cbd1c071e229",
   "metadata": {},
   "outputs": [
    {
     "data": {
      "text/plain": [
       "['whiskey',\n",
       " 'vodka',\n",
       " 'lager',\n",
       " 'cider',\n",
       " 'wine',\n",
       " 'cider',\n",
       " 'water',\n",
       " 'beer',\n",
       " ['apple juice', 'orange juice', 'lemonade']]"
      ]
     },
     "execution_count": 105,
     "metadata": {},
     "output_type": "execute_result"
    }
   ],
   "source": [
    "drinks.append([\"apple juice\", \"orange juice\", \"lemonade\"])\n",
    "drinks\n",
    "# append treats the argument as a single item!!!"
   ]
  },
  {
   "cell_type": "markdown",
   "id": "34ed6c0c-3dc2-45d3-8597-1e991525c140",
   "metadata": {},
   "source": [
    "### List Methods\n",
    "\n",
    "Lists can be empty, with the syntax `list = []`"
   ]
  },
  {
   "cell_type": "markdown",
   "id": "237663df-053a-4d2f-9188-02a0d5c175aa",
   "metadata": {},
   "source": [
    "### Dictionaries\n",
    "\n",
    "A **dictionary** stores data values in key:value pairs"
   ]
  },
  {
   "cell_type": "markdown",
   "id": "e1dc2423-0ef9-406a-91af-4535dbc66873",
   "metadata": {},
   "source": [
    "### Conditional Statements\n",
    "\n",
    "*If-statements*: evaluate statements called **booleans** which yield either a **true** or **false** output"
   ]
  },
  {
   "cell_type": "code",
   "execution_count": 107,
   "id": "acb84284-3934-4b80-9be4-9c450e6fbd39",
   "metadata": {},
   "outputs": [],
   "source": [
    "# assigning values to variables x and y\n",
    "x, y = 1, 2"
   ]
  },
  {
   "cell_type": "code",
   "execution_count": 108,
   "id": "36ac34e7-3d79-41bb-a509-19352a6f485d",
   "metadata": {},
   "outputs": [
    {
     "data": {
      "text/plain": [
       "False"
      ]
     },
     "execution_count": 108,
     "metadata": {},
     "output_type": "execute_result"
    }
   ],
   "source": [
    "# evaluating whether x equals y\n",
    "x == y "
   ]
  },
  {
   "cell_type": "code",
   "execution_count": 109,
   "id": "d6503c47-7558-4aad-837c-feaec3b6fd0e",
   "metadata": {},
   "outputs": [
    {
     "data": {
      "text/plain": [
       "True"
      ]
     },
     "execution_count": 109,
     "metadata": {},
     "output_type": "execute_result"
    }
   ],
   "source": [
    "# evaluating whether x is NOT equal to y\n",
    "x != y "
   ]
  },
  {
   "cell_type": "code",
   "execution_count": 110,
   "id": "8517a411-98c9-46a2-a844-53fa24fd0f72",
   "metadata": {},
   "outputs": [
    {
     "data": {
      "text/plain": [
       "False"
      ]
     },
     "execution_count": 110,
     "metadata": {},
     "output_type": "execute_result"
    }
   ],
   "source": [
    "y = 'a'\n",
    "x == y"
   ]
  },
  {
   "cell_type": "markdown",
   "id": "58c012b4-a7b4-4908-a82a-6011fa244c3f",
   "metadata": {},
   "source": [
    "Thus, we can even compare variables of different data types."
   ]
  },
  {
   "cell_type": "code",
   "execution_count": 111,
   "id": "41b83879-26b1-49d6-a79e-7e202f4dc1d5",
   "metadata": {},
   "outputs": [
    {
     "data": {
      "text/plain": [
       "False"
      ]
     },
     "execution_count": 111,
     "metadata": {},
     "output_type": "execute_result"
    }
   ],
   "source": [
    "y = 2\n",
    "x != y and x > y"
   ]
  },
  {
   "cell_type": "markdown",
   "id": "b7bd8525-ca46-4dc9-891a-af8f7107c72a",
   "metadata": {},
   "source": [
    "Here, x is NOT equal to y but x is not greater than y\n",
    "\n",
    "Since BOTH are not true, AND is false"
   ]
  },
  {
   "cell_type": "code",
   "execution_count": 112,
   "id": "ec0f15e4-f042-4a78-93ef-3d3dce5f68ac",
   "metadata": {},
   "outputs": [
    {
     "data": {
      "text/plain": [
       "True"
      ]
     },
     "execution_count": 112,
     "metadata": {},
     "output_type": "execute_result"
    }
   ],
   "source": [
    "x != y or x > y"
   ]
  },
  {
   "cell_type": "code",
   "execution_count": 113,
   "id": "996ea349-ec03-466e-841f-3bfbba4005bc",
   "metadata": {},
   "outputs": [
    {
     "data": {
      "text/plain": [
       "True"
      ]
     },
     "execution_count": 113,
     "metadata": {},
     "output_type": "execute_result"
    }
   ],
   "source": [
    "x != y and not x > y"
   ]
  },
  {
   "cell_type": "code",
   "execution_count": 115,
   "id": "70cadeb0-55c8-465e-b38e-c64a261f9b12",
   "metadata": {},
   "outputs": [
    {
     "data": {
      "text/plain": [
       "False"
      ]
     },
     "execution_count": 115,
     "metadata": {},
     "output_type": "execute_result"
    }
   ],
   "source": [
    "x != y and bool(0)\n",
    "# bool (0) is always FALSE\n",
    "# bool of anything else is TRUE"
   ]
  },
  {
   "cell_type": "markdown",
   "id": "68862ff5-72dc-4ed0-a153-c226fab710f5",
   "metadata": {},
   "source": [
    "#### Syntax\n",
    "\n",
    "`if *conditional, evaluated as either True or False*:`\n",
    "\n",
    "    do this\n",
    "    \n",
    "`elif *conditional, evaluated as either True or False*:`   # repeat as many times as necessary\n",
    "\n",
    "    do this instead\n",
    "    \n",
    "`else:`\n",
    "\n",
    "    do Something Else"
   ]
  },
  {
   "cell_type": "code",
   "execution_count": 116,
   "id": "0f69a3e6-5221-4f35-a0d7-5a90eb39ddc7",
   "metadata": {},
   "outputs": [
    {
     "name": "stdout",
     "output_type": "stream",
     "text": [
      "b is lesser than a, i guess\n"
     ]
    }
   ],
   "source": [
    "a = 200\n",
    "b = 33\n",
    "\n",
    "if b > a:\n",
    "    print(\"b is greater than a\")\n",
    "elif b == a:\n",
    "    print(\"b is equal to a\")\n",
    "else:\n",
    "    print(\"b is lesser than a, i guess\")"
   ]
  },
  {
   "cell_type": "code",
   "execution_count": 117,
   "id": "5d6c743e-f777-44c8-9aff-86b0b6ed9406",
   "metadata": {},
   "outputs": [
    {
     "name": "stdout",
     "output_type": "stream",
     "text": [
      "b is greater than a\n",
      "b is greater than a\n"
     ]
    }
   ],
   "source": [
    "# separate if statements\n",
    "if a > b:\n",
    "    print(\"b is greater than a\")\n",
    "if b < a:\n",
    "    print(\"b is greater than a\")"
   ]
  },
  {
   "cell_type": "code",
   "execution_count": 118,
   "id": "5809cb9e-f4c2-402b-a003-25d820e00e45",
   "metadata": {},
   "outputs": [
    {
     "name": "stdout",
     "output_type": "stream",
     "text": [
      "b is lesser than a\n"
     ]
    }
   ],
   "source": [
    "# nested if statements\n",
    "if b <= a:\n",
    "    print(\"b is lesser than a\")\n",
    "    if b == a:\n",
    "        print(\"b is equal to a\")"
   ]
  },
  {
   "cell_type": "markdown",
   "id": "b9d0f9d5-940a-4b78-b083-67b98724eb60",
   "metadata": {},
   "source": [
    "*Match Case*: similar to if-statements"
   ]
  },
  {
   "cell_type": "code",
   "execution_count": 123,
   "id": "03b89c43-a984-4098-9f25-7e5128fe274d",
   "metadata": {},
   "outputs": [
    {
     "name": "stdout",
     "output_type": "stream",
     "text": [
      "Holiday\n"
     ]
    }
   ],
   "source": [
    "day = 7\n",
    "match day:\n",
    "    case 1:\n",
    "        print(\"Monday\")\n",
    "    case 2:\n",
    "        print(\"Tuesday\")\n",
    "    case 3:\n",
    "        print(\"Wednesday\")\n",
    "    case 4:\n",
    "        print(\"Thursday\")\n",
    "    case 5:\n",
    "        print(\"Friday\")\n",
    "    case _:\n",
    "        print (\"Holiday\")\n",
    "\n",
    "# doesn't go by sequential order, instead by case"
   ]
  },
  {
   "cell_type": "markdown",
   "id": "ed4e2958-b5a6-4b52-8f59-eb735bcd672c",
   "metadata": {},
   "source": [
    "## In-Lab Final Exercise"
   ]
  },
  {
   "cell_type": "code",
   "execution_count": 134,
   "id": "cd8a9dc8-808d-4994-b3d6-6689e0de3cb2",
   "metadata": {},
   "outputs": [
    {
     "name": "stdin",
     "output_type": "stream",
     "text": [
      "Enter student name:  Bori\n"
     ]
    },
    {
     "name": "stdout",
     "output_type": "stream",
     "text": [
      "Your area is BCN\n"
     ]
    }
   ],
   "source": [
    "names = (\"Malavika\", \"Hannah\", \"Makenna\", \"Erin\", \"Mimi\")\n",
    "\n",
    "name = input(\"Enter student name: \")\n",
    "nameLen = len(name)\n",
    "\n",
    "match name:\n",
    "    case \"Malavika\":\n",
    "        area = \"BCN\"\n",
    "    case \"Hannah\":\n",
    "        area = \"BCN\"\n",
    "    case \"Makenna\":\n",
    "        area = \"SP\"\n",
    "    case \"Erin\":\n",
    "        area = \"BCN\"\n",
    "    case \"Mimi\":\n",
    "        area = \"BCN\"\n",
    "    case _:\n",
    "        if nameLen <= 5:\n",
    "            area = \"BCN\"\n",
    "        elif nameLen >= 8:\n",
    "            area = \"LD\"\n",
    "        else:\n",
    "            area = \"SP\"\n",
    "\n",
    "print(\"Your area is \" + area)"
   ]
  }
 ],
 "metadata": {
  "kernelspec": {
   "display_name": "Python 3 (ipykernel)",
   "language": "python",
   "name": "python3"
  },
  "language_info": {
   "codemirror_mode": {
    "name": "ipython",
    "version": 3
   },
   "file_extension": ".py",
   "mimetype": "text/x-python",
   "name": "python",
   "nbconvert_exporter": "python",
   "pygments_lexer": "ipython3",
   "version": "3.13.5"
  }
 },
 "nbformat": 4,
 "nbformat_minor": 5
}
