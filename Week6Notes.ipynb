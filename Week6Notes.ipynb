{
 "cells": [
  {
   "cell_type": "markdown",
   "id": "c7cc8d81-7820-41d8-9f0a-ab13484df309",
   "metadata": {},
   "source": [
    "### Revisiting Problem Set 2\n",
    "\n",
    "#### Question 1"
   ]
  },
  {
   "cell_type": "markdown",
   "id": "1c3ec745-6eab-4ece-92b7-c00c02faed8c",
   "metadata": {},
   "source": [
    "(a)"
   ]
  },
  {
   "cell_type": "code",
   "execution_count": 34,
   "id": "4b814608-6263-4fa2-9c59-fa6feef6ae56",
   "metadata": {},
   "outputs": [],
   "source": [
    "import random\n",
    "\n",
    "data = [random.normalvariate(0.7, 0.2) for i in range(100)]"
   ]
  },
  {
   "cell_type": "markdown",
   "id": "34864f06-d7c2-48bd-adef-f60d323f30ea",
   "metadata": {},
   "source": [
    "(b)"
   ]
  },
  {
   "cell_type": "code",
   "execution_count": 35,
   "id": "fe8252cd-77db-4b22-872b-fbae20211189",
   "metadata": {},
   "outputs": [
    {
     "name": "stdout",
     "output_type": "stream",
     "text": [
      "(array([0.59319905, 1.16202479, 0.69308259, 0.73578215, 0.95555261,\n",
      "       0.85173235, 1.20070897, 0.7340996 , 0.54480927, 0.86383636,\n",
      "       1.06719751, 0.78146166, 1.04190551, 0.32652243, 0.57445462,\n",
      "       0.76890959, 0.67076314, 0.8266366 , 0.95477902, 0.45920434,\n",
      "       0.59024217, 0.55587224, 0.50038024, 0.65186106, 1.05687919,\n",
      "       0.94826916, 0.64730532, 0.78764789, 0.42230806, 0.64342964,\n",
      "       0.84013524, 0.52722598, 0.5722386 , 0.6024069 , 0.66583615,\n",
      "       0.65737522, 0.62993103, 0.67929087, 0.63014378, 0.50580967,\n",
      "       0.61693193, 0.91431282, 0.46059196, 0.90305596, 0.51753866,\n",
      "       1.04116224, 0.83323161, 0.6571394 , 0.70979837, 1.13113816,\n",
      "       0.90617445, 0.65436027, 0.70175643, 0.31595476, 0.77186997,\n",
      "       0.57450903, 0.84078309, 0.4044358 , 1.10864652, 0.76488716,\n",
      "       0.90150958, 0.36202481, 0.42793186, 0.81898083, 0.74099645,\n",
      "       0.93653218, 0.57772734, 0.5057045 , 0.83923755, 0.55256939,\n",
      "       0.47006914, 0.88043938, 0.63607811, 0.82160909, 0.53453105,\n",
      "       0.69472777, 0.55624315, 0.68730745, 0.61238857, 1.06910607,\n",
      "       0.66139019, 0.60242379, 0.9037095 , 0.46617575, 0.73551294,\n",
      "       0.84665876, 0.78281164, 0.70040869, 0.72086731, 0.71227806,\n",
      "       0.7379612 , 0.75876281, 0.81184207, 0.8777789 , 0.7801059 ,\n",
      "       0.49504115, 0.91615378]), 3)\n"
     ]
    }
   ],
   "source": [
    "# without function definition\n",
    "import statistics\n",
    "import numpy as np\n",
    "\n",
    "threshold = 2.5 # cutoff threshold\n",
    "\n",
    "def trimMeans(data, threshold):\n",
    "    \n",
    "    while data:\n",
    "    \n",
    "        cleanedData = []\n",
    "        outliers = 0\n",
    "        \n",
    "        # calculate mean and standard deviation\n",
    "        mean = statistics.mean(data)\n",
    "        sd = statistics.stdev(data)\n",
    "        # calculate limits\n",
    "        upper = mean + threshold * sd\n",
    "        lower = mean - threshold * sd\n",
    "        \n",
    "        # remove outliers in loop\n",
    "        # cleanedData = [value for value in data if lower <= value <= upper]\n",
    "        \n",
    "        # remove outliers in numpy slicing - more time-efficient than looping!\n",
    "        data = np.array(data)\n",
    "        cleanedData = data[(data <= upper) & (data >= lower)]\n",
    "\n",
    "        newOutliers = len(data) - len(cleanedData)\n",
    "    \n",
    "        if newOutliers == 0:\n",
    "            break\n",
    "        else:\n",
    "            # reassigning \n",
    "            data = cleanedData\n",
    "            outliers += newOutliers\n",
    "        \n",
    "        return data, outliers # because the passed argument becomes local to the function\n",
    "\n",
    "print(trimMeans(data, threshold))"
   ]
  },
  {
   "cell_type": "markdown",
   "id": "2b39be7c-673d-4549-ab17-701bcc395fe7",
   "metadata": {},
   "source": [
    "#### Question 2"
   ]
  },
  {
   "cell_type": "markdown",
   "id": "6c46acfa-9d3a-4723-97fd-ff3492c4fe7a",
   "metadata": {},
   "source": [
    "(a)"
   ]
  },
  {
   "cell_type": "code",
   "execution_count": 47,
   "id": "0ef96aaa-5b7b-429e-9a69-865536dcb59d",
   "metadata": {},
   "outputs": [
    {
     "name": "stdout",
     "output_type": "stream",
     "text": [
      "['Krishnapriya', 'Gaya', 'Neha', 'Eshita', 'Priyamvada', 'Samarpita', 'Gopika', 'Rahi', 'Susan', 'Vishnupriya']\n",
      "[84 79 88 83 79 81 88 73 75 76]\n",
      "Krishnapriya\n",
      "84\n"
     ]
    }
   ],
   "source": [
    "import numpy\n",
    "\n",
    "names = ['Krishnapriya', 'Gaya', 'Neha', 'Eshita', 'Priyamvada', 'Samarpita', 'Gopika', 'Rahi', 'Susan', 'Vishnupriya']\n",
    "grades = numpy.random.randint(71, 90, 10) # for random number generation\n",
    "\n",
    "allRecords = [names, grades] # a list of lists\n",
    "\n",
    "print(allRecords[0]) # displays only names\n",
    "print(allRecords[1]) # displays only grades\n",
    "print(allRecords[0][0]) # displays first value of first list in allRecords\n",
    "print(allRecords[1][0]) # displays first value of second list in allRecords"
   ]
  },
  {
   "cell_type": "markdown",
   "id": "fbcc8d0d-09c2-48e0-947a-8d4b118a6151",
   "metadata": {},
   "source": [
    "(b)"
   ]
  },
  {
   "cell_type": "code",
   "execution_count": 56,
   "id": "0ff53a0d-e509-4e97-a258-8acedf3636be",
   "metadata": {},
   "outputs": [
    {
     "name": "stdin",
     "output_type": "stream",
     "text": [
      "Please enter a name: Rahi\n"
     ]
    },
    {
     "name": "stdout",
     "output_type": "stream",
     "text": [
      "Rahi's grade is: 73\n"
     ]
    }
   ],
   "source": [
    "inputName = input(\"Please enter a name:\")\n",
    "\n",
    "if inputName in names:\n",
    "    print(inputName + \"'s grade is:\", grades[names.index(inputName)])\n",
    "else:\n",
    "    print(\"Name not in student list\")"
   ]
  }
 ],
 "metadata": {
  "kernelspec": {
   "display_name": "Python 3 (ipykernel)",
   "language": "python",
   "name": "python3"
  },
  "language_info": {
   "codemirror_mode": {
    "name": "ipython",
    "version": 3
   },
   "file_extension": ".py",
   "mimetype": "text/x-python",
   "name": "python",
   "nbconvert_exporter": "python",
   "pygments_lexer": "ipython3",
   "version": "3.13.5"
  }
 },
 "nbformat": 4,
 "nbformat_minor": 5
}
